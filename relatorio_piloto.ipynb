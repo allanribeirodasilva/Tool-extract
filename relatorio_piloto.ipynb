{
  "nbformat": 4,
  "nbformat_minor": 0,
  "metadata": {
    "colab": {
      "name": "relatorio piloto.ipynb",
      "provenance": [],
      "mount_file_id": "14BqmVLCZ9yLji8jSZ9d36-tl8RvQtrjl",
      "authorship_tag": "ABX9TyOwUpYab+PXsVeLhDqzwzMO",
      "include_colab_link": true
    },
    "kernelspec": {
      "name": "python3",
      "display_name": "Python 3"
    }
  },
  "cells": [
    {
      "cell_type": "markdown",
      "metadata": {
        "id": "view-in-github",
        "colab_type": "text"
      },
      "source": [
        "<a href=\"https://colab.research.google.com/github/allanribeirodasilva/Tool-extract/blob/main/relatorio_piloto.ipynb\" target=\"_parent\"><img src=\"https://colab.research.google.com/assets/colab-badge.svg\" alt=\"Open In Colab\"/></a>"
      ]
    },
    {
      "cell_type": "code",
      "metadata": {
        "id": "6GdnWR1G_bNY"
      },
      "source": [
        "import pandas as pd\n",
        "from pandas_datareader import data as wb\n",
        "import numpy as np\n",
        "import matplotlib.pyplot as plt"
      ],
      "execution_count": null,
      "outputs": []
    },
    {
      "cell_type": "code",
      "metadata": {
        "id": "ukfRepbbXDQB",
        "colab": {
          "base_uri": "https://localhost:8080/"
        },
        "outputId": "fe9949d3-82bf-4bb0-9d2c-fe7d5a9b921e"
      },
      "source": [
        "#DADOS EXPORTADOS DIRETO DO BACEN \n",
        "import pandas as pd\n",
        "def bcb(codigo):\n",
        "  link = f'http://api.bcb.gov.br/dados/serie/bcdata.sgs.{codigo}/dados?formato=json'\n",
        "  df = pd.read_json(link)\n",
        "  df.index = pd.to_datetime(df['data'])\n",
        "  df = df['valor']\n",
        "  return df\n",
        "Dolar_venda = bcb (1)\n",
        "\n",
        "Dolar_compra = bcb (10813)\n",
        "print (Dolar_venda, Dolar_compra)\n"
      ],
      "execution_count": null,
      "outputs": [
        {
          "output_type": "stream",
          "text": [
            "data\n",
            "1984-11-28    2828.0000\n",
            "1984-11-29    2828.0000\n",
            "1984-11-30    2881.0000\n",
            "1984-03-12    2881.0000\n",
            "1984-04-12    2881.0000\n",
            "                ...    \n",
            "2021-12-03       5.5640\n",
            "2021-03-15       5.6296\n",
            "2021-03-16       5.5851\n",
            "2021-03-17       5.6579\n",
            "2021-03-18       5.5474\n",
            "Name: valor, Length: 9094, dtype: float64 data\n",
            "1984-11-28    2814.0000\n",
            "1984-11-29    2814.0000\n",
            "1984-11-30    2867.0000\n",
            "1984-03-12    2867.0000\n",
            "1984-04-12    2867.0000\n",
            "                ...    \n",
            "2021-12-03       5.5634\n",
            "2021-03-15       5.6290\n",
            "2021-03-16       5.5845\n",
            "2021-03-17       5.6573\n",
            "2021-03-18       5.5468\n",
            "Name: valor, Length: 9094, dtype: float64\n"
          ],
          "name": "stdout"
        }
      ]
    },
    {
      "cell_type": "code",
      "metadata": {
        "colab": {
          "base_uri": "https://localhost:8080/",
          "height": 171
        },
        "id": "H3wD2chAldak",
        "outputId": "602a1a26-d690-40c0-dae6-5c6c129f48f0"
      },
      "source": [
        "print [Dolar_venda, Dolar_compra]"
      ],
      "execution_count": null,
      "outputs": [
        {
          "output_type": "error",
          "ename": "TypeError",
          "evalue": "ignored",
          "traceback": [
            "\u001b[0;31m---------------------------------------------------------------------------\u001b[0m",
            "\u001b[0;31mTypeError\u001b[0m                                 Traceback (most recent call last)",
            "\u001b[0;32m<ipython-input-3-70fa7c47a75e>\u001b[0m in \u001b[0;36m<module>\u001b[0;34m()\u001b[0m\n\u001b[0;32m----> 1\u001b[0;31m \u001b[0mprint\u001b[0m \u001b[0;34m[\u001b[0m\u001b[0mDolar_venda\u001b[0m\u001b[0;34m,\u001b[0m \u001b[0mDolar_compra\u001b[0m\u001b[0;34m]\u001b[0m\u001b[0;34m\u001b[0m\u001b[0;34m\u001b[0m\u001b[0m\n\u001b[0m",
            "\u001b[0;31mTypeError\u001b[0m: 'builtin_function_or_method' object is not subscriptable"
          ]
        }
      ]
    },
    {
      "cell_type": "code",
      "metadata": {
        "colab": {
          "base_uri": "https://localhost:8080/",
          "height": 207
        },
        "id": "1v9DCE7lPngK",
        "outputId": "54282201-1276-4e82-d612-93380e471b0d"
      },
      "source": [
        "Dolar_venda.rename(columns={'valor':'USD venda'}, axis=1)\n",
        "Dolar_compra.rename(columns={'valor':'USD compra'}, axis=1)\n",
        "Dolar_compra.head()"
      ],
      "execution_count": null,
      "outputs": [
        {
          "output_type": "error",
          "ename": "TypeError",
          "evalue": "ignored",
          "traceback": [
            "\u001b[0;31m---------------------------------------------------------------------------\u001b[0m",
            "\u001b[0;31mTypeError\u001b[0m                                 Traceback (most recent call last)",
            "\u001b[0;32m<ipython-input-16-2485e5baa2d7>\u001b[0m in \u001b[0;36m<module>\u001b[0;34m()\u001b[0m\n\u001b[0;32m----> 1\u001b[0;31m \u001b[0mDolar_venda\u001b[0m\u001b[0;34m.\u001b[0m\u001b[0mrename\u001b[0m\u001b[0;34m(\u001b[0m\u001b[0mcolumns\u001b[0m\u001b[0;34m=\u001b[0m\u001b[0;34m{\u001b[0m\u001b[0;34m'valor'\u001b[0m\u001b[0;34m:\u001b[0m\u001b[0;34m'USD venda'\u001b[0m\u001b[0;34m}\u001b[0m\u001b[0;34m,\u001b[0m \u001b[0maxis\u001b[0m\u001b[0;34m=\u001b[0m\u001b[0;36m1\u001b[0m\u001b[0;34m)\u001b[0m\u001b[0;34m\u001b[0m\u001b[0;34m\u001b[0m\u001b[0m\n\u001b[0m\u001b[1;32m      2\u001b[0m \u001b[0mDolar_compra\u001b[0m\u001b[0;34m.\u001b[0m\u001b[0mrename\u001b[0m\u001b[0;34m(\u001b[0m\u001b[0mcolumns\u001b[0m\u001b[0;34m=\u001b[0m\u001b[0;34m{\u001b[0m\u001b[0;34m'valor'\u001b[0m\u001b[0;34m:\u001b[0m\u001b[0;34m'USD compra'\u001b[0m\u001b[0;34m}\u001b[0m\u001b[0;34m,\u001b[0m \u001b[0maxis\u001b[0m\u001b[0;34m=\u001b[0m\u001b[0;36m1\u001b[0m\u001b[0;34m)\u001b[0m\u001b[0;34m\u001b[0m\u001b[0;34m\u001b[0m\u001b[0m\n\u001b[1;32m      3\u001b[0m \u001b[0mDolar_compra\u001b[0m\u001b[0;34m.\u001b[0m\u001b[0mhead\u001b[0m\u001b[0;34m(\u001b[0m\u001b[0;34m)\u001b[0m\u001b[0;34m\u001b[0m\u001b[0;34m\u001b[0m\u001b[0m\n",
            "\u001b[0;31mTypeError\u001b[0m: rename() got an unexpected keyword argument 'columns'"
          ]
        }
      ]
    },
    {
      "cell_type": "code",
      "metadata": {
        "colab": {
          "base_uri": "https://localhost:8080/"
        },
        "id": "XSU-_tVIDdVU",
        "outputId": "2490406d-d529-4769-995a-45f68f42b55a"
      },
      "source": [
        "Euro_venda = bcb (21619)\n",
        "Euro_compra = bcb (21620)\n",
        "JPY_venda = bcb (21621)\n",
        "JPY_compra  = bcb (21622)\n",
        "GBP_venda = bcb (21623)\n",
        "GBP_compra = bcb (21624)\n",
        "CHF_venda = bcb (21625)\n",
        "CHF_compra = bcb (21626)\n",
        "CAD_venda = bcb (21627)\n",
        "CAD_compra = bcb (21628)\n",
        "moedas = [[Dolar_venda, Dolar_compra, Euro_venda, Euro_compra, GBP_venda, GBP_compra, CHF_venda, CHF_compra, CAD_venda, CAD_compra]]\n",
        "for n in moedas:\n",
        "  print (n)"
      ],
      "execution_count": null,
      "outputs": [
        {
          "output_type": "stream",
          "text": [
            "[data\n",
            "1984-11-28    2828.0000\n",
            "1984-11-29    2828.0000\n",
            "1984-11-30    2881.0000\n",
            "1984-03-12    2881.0000\n",
            "1984-04-12    2881.0000\n",
            "                ...    \n",
            "2021-08-03       5.7343\n",
            "2021-09-03       5.8397\n",
            "2021-10-03       5.7449\n",
            "2021-11-03       5.5890\n",
            "2021-12-03       5.5640\n",
            "Name: valor, Length: 9090, dtype: float64, data\n",
            "1984-11-28    2814.0000\n",
            "1984-11-29    2814.0000\n",
            "1984-11-30    2867.0000\n",
            "1984-03-12    2867.0000\n",
            "1984-04-12    2867.0000\n",
            "                ...    \n",
            "2021-08-03       5.7337\n",
            "2021-09-03       5.8391\n",
            "2021-10-03       5.7443\n",
            "2021-11-03       5.5884\n",
            "2021-12-03       5.5634\n",
            "Name: valor, Length: 9090, dtype: float64, data\n",
            "1998-12-31    1.416095\n",
            "1999-04-01    1.435880\n",
            "1999-05-01    1.425660\n",
            "1999-06-01    1.407220\n",
            "1999-07-01    1.419560\n",
            "                ...   \n",
            "2021-08-03    6.800300\n",
            "2021-09-03    6.942200\n",
            "2021-10-03    6.835300\n",
            "2021-11-03    6.685000\n",
            "2021-12-03    6.642900\n",
            "Name: valor, Length: 5570, dtype: float64, data\n",
            "1998-12-31    1.412536\n",
            "1999-04-01    1.422290\n",
            "1999-05-01    1.422080\n",
            "1999-06-01    1.403680\n",
            "1999-07-01    1.415980\n",
            "                ...   \n",
            "2021-08-03    6.797300\n",
            "2021-09-03    6.939200\n",
            "2021-10-03    6.832300\n",
            "2021-11-03    6.682000\n",
            "2021-12-03    6.639900\n",
            "Name: valor, Length: 5570, dtype: float64, data\n",
            "1994-01-07    1.54054\n",
            "1994-04-07    1.44851\n",
            "1994-05-07    1.44038\n",
            "1994-06-07    1.41648\n",
            "1994-07-07    1.40392\n",
            "               ...   \n",
            "2021-08-03    7.92080\n",
            "2021-09-03    8.11430\n",
            "2021-10-03    7.98830\n",
            "2021-11-03    7.80780\n",
            "2021-12-03    7.73170\n",
            "Name: valor, Length: 6695, dtype: float64, data\n",
            "1994-01-07    1.38461\n",
            "1994-04-07    1.43843\n",
            "1994-05-07    1.43030\n",
            "1994-06-07    1.40643\n",
            "1994-07-07    1.39391\n",
            "               ...   \n",
            "2021-08-03    7.91880\n",
            "2021-09-03    8.11110\n",
            "2021-10-03    7.98520\n",
            "2021-11-03    7.80480\n",
            "2021-12-03    7.72920\n",
            "Name: valor, Length: 6695, dtype: float64, data\n",
            "1994-01-07    0.746363\n",
            "1994-04-07    0.701844\n",
            "1994-05-07    0.703375\n",
            "1994-06-07    0.688571\n",
            "1994-07-07    0.687654\n",
            "                ...   \n",
            "2021-08-03    6.130300\n",
            "2021-09-03    6.277900\n",
            "2021-10-03    6.169400\n",
            "2021-11-03    6.038900\n",
            "2021-12-03    5.987900\n",
            "Name: valor, Length: 6694, dtype: float64, data\n",
            "1994-01-07    0.670756\n",
            "1994-04-07    0.696893\n",
            "1994-05-07    0.698379\n",
            "1994-06-07    0.683609\n",
            "1994-07-07    0.682679\n",
            "                ...   \n",
            "2021-08-03    6.127100\n",
            "2021-09-03    6.275200\n",
            "2021-10-03    6.166100\n",
            "2021-11-03    6.035600\n",
            "2021-12-03    5.985400\n",
            "Name: valor, Length: 6694, dtype: float64, data\n",
            "1994-01-07    0.159696\n",
            "1994-04-07    0.150084\n",
            "1994-05-07    0.150192\n",
            "1994-06-07    0.147452\n",
            "1994-07-07    0.147244\n",
            "                ...   \n",
            "2021-08-03    0.914400\n",
            "2021-09-03    0.933500\n",
            "2021-10-03    0.919000\n",
            "2021-11-03    0.898900\n",
            "2021-12-03    0.893200\n",
            "Name: valor, Length: 6694, dtype: float64, data\n",
            "1994-01-07    0.143511\n",
            "1994-04-07    0.149017\n",
            "1994-05-07    0.149117\n",
            "1994-06-07    0.146382\n",
            "1994-07-07    0.146171\n",
            "                ...   \n",
            "2021-08-03    0.914200\n",
            "2021-09-03    0.933200\n",
            "2021-10-03    0.918700\n",
            "2021-11-03    0.898700\n",
            "2021-12-03    0.892900\n",
            "Name: valor, Length: 6694, dtype: float64]\n"
          ],
          "name": "stdout"
        }
      ]
    },
    {
      "cell_type": "code",
      "metadata": {
        "colab": {
          "base_uri": "https://localhost:8080/",
          "height": 189
        },
        "id": "EftAkq_wHCgH",
        "outputId": "ed41c4e8-75a5-471e-8415-c32d321676ef"
      },
      "source": [
        "from google.colab import files\n",
        "moedas.to_excel('/content/drive/MyDrive/DADOS_FINANCEIROS/paridade.xlsx')"
      ],
      "execution_count": null,
      "outputs": [
        {
          "output_type": "error",
          "ename": "AttributeError",
          "evalue": "ignored",
          "traceback": [
            "\u001b[0;31m---------------------------------------------------------------------------\u001b[0m",
            "\u001b[0;31mAttributeError\u001b[0m                            Traceback (most recent call last)",
            "\u001b[0;32m<ipython-input-7-75b8cbf226e2>\u001b[0m in \u001b[0;36m<module>\u001b[0;34m()\u001b[0m\n\u001b[1;32m      1\u001b[0m \u001b[0;32mfrom\u001b[0m \u001b[0mgoogle\u001b[0m\u001b[0;34m.\u001b[0m\u001b[0mcolab\u001b[0m \u001b[0;32mimport\u001b[0m \u001b[0mfiles\u001b[0m\u001b[0;34m\u001b[0m\u001b[0;34m\u001b[0m\u001b[0m\n\u001b[0;32m----> 2\u001b[0;31m \u001b[0mmoedas\u001b[0m\u001b[0;34m.\u001b[0m\u001b[0mto_excel\u001b[0m\u001b[0;34m(\u001b[0m\u001b[0;34m'/content/drive/MyDrive/DADOS_FINANCEIROS/paridade.xlsx'\u001b[0m\u001b[0;34m)\u001b[0m\u001b[0;34m\u001b[0m\u001b[0;34m\u001b[0m\u001b[0m\n\u001b[0m",
            "\u001b[0;31mAttributeError\u001b[0m: 'list' object has no attribute 'to_excel'"
          ]
        }
      ]
    },
    {
      "cell_type": "code",
      "metadata": {
        "id": "z_9Xav_FzgDF"
      },
      "source": [
        ""
      ],
      "execution_count": null,
      "outputs": []
    }
  ]
}